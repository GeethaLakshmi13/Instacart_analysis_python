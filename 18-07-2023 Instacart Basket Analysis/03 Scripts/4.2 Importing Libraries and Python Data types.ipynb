{
 "cells": [
  {
   "cell_type": "markdown",
   "id": "32e724ec",
   "metadata": {},
   "source": [
    "# Importing Libraries"
   ]
  },
  {
   "cell_type": "code",
   "execution_count": 1,
   "id": "8556cba3",
   "metadata": {},
   "outputs": [],
   "source": [
    "# import libraries\n",
    "import pandas as pd\n",
    "import numpy as np\n",
    "import os"
   ]
  },
  {
   "cell_type": "markdown",
   "id": "d871bac6",
   "metadata": {},
   "source": [
    "# Data Types"
   ]
  },
  {
   "cell_type": "code",
   "execution_count": 2,
   "id": "c0b0e06f",
   "metadata": {},
   "outputs": [],
   "source": [
    "x =2"
   ]
  },
  {
   "cell_type": "code",
   "execution_count": 3,
   "id": "4df049bf",
   "metadata": {},
   "outputs": [
    {
     "data": {
      "text/plain": [
       "2"
      ]
     },
     "execution_count": 3,
     "metadata": {},
     "output_type": "execute_result"
    }
   ],
   "source": [
    "x"
   ]
  },
  {
   "cell_type": "code",
   "execution_count": 4,
   "id": "f71a3b3c",
   "metadata": {},
   "outputs": [
    {
     "name": "stdout",
     "output_type": "stream",
     "text": [
      "2\n"
     ]
    }
   ],
   "source": [
    "print(x)"
   ]
  },
  {
   "cell_type": "code",
   "execution_count": 5,
   "id": "c10d7588",
   "metadata": {},
   "outputs": [
    {
     "data": {
      "text/plain": [
       "int"
      ]
     },
     "execution_count": 5,
     "metadata": {},
     "output_type": "execute_result"
    }
   ],
   "source": [
    "type(x)"
   ]
  },
  {
   "cell_type": "markdown",
   "id": "0c86f027",
   "metadata": {},
   "source": [
    "# Code 3 different ways of reaching a result of 100 by adding or subtracting numeric variables."
   ]
  },
  {
   "cell_type": "code",
   "execution_count": 12,
   "id": "0bb5ddc9",
   "metadata": {},
   "outputs": [],
   "source": [
    "a = 50"
   ]
  },
  {
   "cell_type": "code",
   "execution_count": 13,
   "id": "55c676e0",
   "metadata": {},
   "outputs": [],
   "source": [
    "b = 50"
   ]
  },
  {
   "cell_type": "code",
   "execution_count": 14,
   "id": "3700bad8",
   "metadata": {},
   "outputs": [],
   "source": [
    "c = 100"
   ]
  },
  {
   "cell_type": "code",
   "execution_count": 15,
   "id": "17dc4938",
   "metadata": {},
   "outputs": [],
   "source": [
    "d = 200"
   ]
  },
  {
   "cell_type": "code",
   "execution_count": 17,
   "id": "b4f83680",
   "metadata": {},
   "outputs": [
    {
     "data": {
      "text/plain": [
       "100"
      ]
     },
     "execution_count": 17,
     "metadata": {},
     "output_type": "execute_result"
    }
   ],
   "source": [
    "# first way \n",
    "\n",
    "a + b\n"
   ]
  },
  {
   "cell_type": "code",
   "execution_count": 18,
   "id": "15c77802",
   "metadata": {},
   "outputs": [
    {
     "data": {
      "text/plain": [
       "100"
      ]
     },
     "execution_count": 18,
     "metadata": {},
     "output_type": "execute_result"
    }
   ],
   "source": [
    "# Second Way\n",
    "\n",
    "d - c"
   ]
  },
  {
   "cell_type": "code",
   "execution_count": 21,
   "id": "a63b3dca",
   "metadata": {},
   "outputs": [
    {
     "data": {
      "text/plain": [
       "100"
      ]
     },
     "execution_count": 21,
     "metadata": {},
     "output_type": "execute_result"
    }
   ],
   "source": [
    "# Third way\n",
    "\n",
    "(c + d) - d"
   ]
  },
  {
   "cell_type": "markdown",
   "id": "6a30098e",
   "metadata": {},
   "source": [
    "# Code 2 floating-point variables and divide them by each other."
   ]
  },
  {
   "cell_type": "code",
   "execution_count": 22,
   "id": "6ea07b00",
   "metadata": {},
   "outputs": [],
   "source": [
    "a = 6.234"
   ]
  },
  {
   "cell_type": "code",
   "execution_count": 23,
   "id": "640ea3b9",
   "metadata": {},
   "outputs": [],
   "source": [
    "b = 2.435"
   ]
  },
  {
   "cell_type": "code",
   "execution_count": 24,
   "id": "9483f9d5",
   "metadata": {},
   "outputs": [
    {
     "data": {
      "text/plain": [
       "2.5601642710472277"
      ]
     },
     "execution_count": 24,
     "metadata": {},
     "output_type": "execute_result"
    }
   ],
   "source": [
    "a/b"
   ]
  },
  {
   "cell_type": "markdown",
   "id": "e8151e1c",
   "metadata": {},
   "source": [
    "# Construct a short word made of separate strings (you’ll need to concatenate some strings!)."
   ]
  },
  {
   "cell_type": "code",
   "execution_count": 25,
   "id": "a5818995",
   "metadata": {},
   "outputs": [],
   "source": [
    "a = \"Geetha\""
   ]
  },
  {
   "cell_type": "code",
   "execution_count": 26,
   "id": "0fa0e4f5",
   "metadata": {},
   "outputs": [],
   "source": [
    "b = \"Lakshmi\""
   ]
  },
  {
   "cell_type": "code",
   "execution_count": 27,
   "id": "ad78e9bd",
   "metadata": {},
   "outputs": [
    {
     "data": {
      "text/plain": [
       "'GeethaLakshmi'"
      ]
     },
     "execution_count": 27,
     "metadata": {},
     "output_type": "execute_result"
    }
   ],
   "source": [
    "a + b"
   ]
  },
  {
   "cell_type": "markdown",
   "id": "a9fba77f",
   "metadata": {},
   "source": [
    "# Construct 2 short sentences made of separate strings."
   ]
  },
  {
   "cell_type": "code",
   "execution_count": 31,
   "id": "4e36bda7",
   "metadata": {},
   "outputs": [],
   "source": [
    "a = \"Believe Yourself. \""
   ]
  },
  {
   "cell_type": "code",
   "execution_count": 32,
   "id": "3c57aaea",
   "metadata": {},
   "outputs": [],
   "source": [
    "b = \"Nothing is impossible in this world\""
   ]
  },
  {
   "cell_type": "code",
   "execution_count": 33,
   "id": "aa0aea25",
   "metadata": {},
   "outputs": [
    {
     "data": {
      "text/plain": [
       "'Believe Yourself. Nothing is impossible in this world'"
      ]
     },
     "execution_count": 33,
     "metadata": {},
     "output_type": "execute_result"
    }
   ],
   "source": [
    "a + b"
   ]
  },
  {
   "cell_type": "markdown",
   "id": "9edd32da",
   "metadata": {},
   "source": [
    "# At the bottom of your file, include a command that makes a string appear 100 times."
   ]
  },
  {
   "cell_type": "code",
   "execution_count": 37,
   "id": "fcc50814",
   "metadata": {},
   "outputs": [],
   "source": [
    "a = 'India '"
   ]
  },
  {
   "cell_type": "code",
   "execution_count": 38,
   "id": "d57eb8c4",
   "metadata": {},
   "outputs": [
    {
     "data": {
      "text/plain": [
       "'India India India India India India India India India India India India India India India India India India India India India India India India India India India India India India India India India India India India India India India India India India India India India India India India India India India India India India India India India India India India India India India India India India India India India India India India India India India India India India India India India India India India India India India India India India India India India India India India India India India India '"
      ]
     },
     "execution_count": 38,
     "metadata": {},
     "output_type": "execute_result"
    }
   ],
   "source": [
    "a * 100"
   ]
  },
  {
   "cell_type": "code",
   "execution_count": null,
   "id": "1df177b3",
   "metadata": {},
   "outputs": [],
   "source": []
  }
 ],
 "metadata": {
  "kernelspec": {
   "display_name": "Python 3 (ipykernel)",
   "language": "python",
   "name": "python3"
  },
  "language_info": {
   "codemirror_mode": {
    "name": "ipython",
    "version": 3
   },
   "file_extension": ".py",
   "mimetype": "text/x-python",
   "name": "python",
   "nbconvert_exporter": "python",
   "pygments_lexer": "ipython3",
   "version": "3.11.3"
  }
 },
 "nbformat": 4,
 "nbformat_minor": 5
}
